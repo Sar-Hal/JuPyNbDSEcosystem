{
 "cells": [
  {
   "cell_type": "markdown",
   "id": "1361184c-3a0d-4751-b540-e78584fcdd50",
   "metadata": {},
   "source": [
    "# H1: Data Science Tools and Ecosystem"
   ]
  },
  {
   "cell_type": "markdown",
   "id": "344040ce-9f47-45e5-88fb-544d8a72fad3",
   "metadata": {},
   "source": [
    "In this notebook, Data Science Tools and Ecosystem are summarized."
   ]
  },
  {
   "cell_type": "markdown",
   "id": "d938b002-11f0-4fde-ac84-eee5788bddaf",
   "metadata": {},
   "source": [
    "**Objectives:**\n",
    "* List Popular languages for data science\n",
    "* List common libraries used by Data Scientists\n",
    "* Data Science Tools\n",
    "* Arithmetic Expression Evaluation\n",
    "* Hours to Minutes"
   ]
  },
  {
   "cell_type": "markdown",
   "id": "334d2a57-c0d5-4bda-8def-f124d4af1110",
   "metadata": {},
   "source": [
    "Some of the popular languages that Data Scientists use are:\n",
    "1. Python\n",
    "2. R\n",
    "3. SQL\n",
    "4. JavaScript"
   ]
  },
  {
   "cell_type": "markdown",
   "id": "a3b6d070-964a-4472-8068-5f70343abdde",
   "metadata": {},
   "source": [
    "Some of the commonly used libraries used by Data Scientists include:\n",
    "1. Keras\n",
    "2. BeautifulSoup\n",
    "3. SciPy\n",
    "4. Plotly"
   ]
  },
  {
   "cell_type": "markdown",
   "id": "1cfe0f08-c821-41bb-9fc7-f0e114d74766",
   "metadata": {},
   "source": [
    "| Data Science Tools |||\n",
    "|------|---------|------|\n",
    "| Jupyter Notebooks |\n",
    "| Apache Spark |\n",
    "| TensorFlow |"
   ]
  },
  {
   "cell_type": "markdown",
   "id": "014b5731-2281-484f-b864-0841b3351dbf",
   "metadata": {},
   "source": [
    "# H3:Below are a few examples of evaluating arithmetic expressions in Python"
   ]
  },
  {
   "cell_type": "code",
   "execution_count": 1,
   "id": "5722b993-fd0b-44ca-80bc-65b54c8d896e",
   "metadata": {
    "tags": []
   },
   "outputs": [
    {
     "data": {
      "text/plain": [
       "17"
      ]
     },
     "execution_count": 1,
     "metadata": {},
     "output_type": "execute_result"
    }
   ],
   "source": [
    "(3*4)+5\n",
    "#This a simple arithmetic expression to mutiply then add integers"
   ]
  },
  {
   "cell_type": "code",
   "execution_count": 7,
   "id": "68f8ebb0-5b2a-4511-bc72-332043b94995",
   "metadata": {
    "tags": []
   },
   "outputs": [
    {
     "name": "stdout",
     "output_type": "stream",
     "text": [
      "3 hours 20 mins\n"
     ]
    }
   ],
   "source": [
    "#This will convert 200 minutes to hours by diving by 60\n",
    "print(200//60,\"hours\",200%60,\"mins\")"
   ]
  },
  {
   "cell_type": "markdown",
   "id": "b40f9ada-2422-4710-82f0-c2195c8f1ce6",
   "metadata": {},
   "source": [
    "# H2: Author\n",
    "Sarthakbrata Halder"
   ]
  },
  {
   "cell_type": "code",
   "execution_count": null,
   "id": "43bd2976-dcc6-486e-8fc7-145f57cb7611",
   "metadata": {},
   "outputs": [],
   "source": []
  }
 ],
 "metadata": {
  "kernelspec": {
   "display_name": "Python",
   "language": "python",
   "name": "conda-env-python-py"
  },
  "language_info": {
   "codemirror_mode": {
    "name": "ipython",
    "version": 3
   },
   "file_extension": ".py",
   "mimetype": "text/x-python",
   "name": "python",
   "nbconvert_exporter": "python",
   "pygments_lexer": "ipython3",
   "version": "3.7.12"
  }
 },
 "nbformat": 4,
 "nbformat_minor": 5
}
